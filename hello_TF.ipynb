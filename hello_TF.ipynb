{
 "cells": [
  {
   "cell_type": "markdown",
   "metadata": {},
   "source": [
    "# Check tensorflow installation"
   ]
  },
  {
   "cell_type": "code",
   "execution_count": 1,
   "metadata": {
    "collapsed": true
   },
   "outputs": [],
   "source": [
    "import tensorflow as tf"
   ]
  },
  {
   "cell_type": "markdown",
   "metadata": {
    "collapsed": true
   },
   "source": [
    "The usual hello world"
   ]
  },
  {
   "cell_type": "code",
   "execution_count": 2,
   "metadata": {},
   "outputs": [
    {
     "name": "stdout",
     "output_type": "stream",
     "text": [
      "Before running the graph a is:\n",
      "Tensor(\"Const:0\", shape=(), dtype=string)\n",
      "\n",
      "By running the graph as a:\n",
      "Hello my friend\n"
     ]
    }
   ],
   "source": [
    "a = tf.constant('Hello my friend')\n",
    "# this should not print the contents of a\n",
    "print \"Before running the graph a is:\"\n",
    "print a\n",
    "\n",
    "# Creates a session with log_device_placement set to True.\n",
    "sess = tf.Session()\n",
    "# Runs the op. (This should print the contents of a by running the graph)\n",
    "print \"\\nBy running the graph as a:\"\n",
    "print(sess.run(a))\n"
   ]
  },
  {
   "cell_type": "markdown",
   "metadata": {},
   "source": [
    "# Moving on\n",
    "Lets try now with a graph involving more than one node"
   ]
  },
  {
   "cell_type": "code",
   "execution_count": 3,
   "metadata": {},
   "outputs": [
    {
     "name": "stdout",
     "output_type": "stream",
     "text": [
      "[[ 14.  32.]\n",
      " [ 32.  77.]]\n"
     ]
    }
   ],
   "source": [
    "a = tf.constant([1.0, 2.0, 3.0, 4.0, 5.0, 6.0], shape=[2, 3], name='a')\n",
    "b = tf.constant([1.0, 4.0, 2.0, 5.0, 3.0, 6.0], shape=[3, 2], name='b')\n",
    "c = tf.matmul(a, b)\n",
    "print(sess.run(c))"
   ]
  },
  {
   "cell_type": "markdown",
   "metadata": {},
   "source": [
    "Add a placeholder and a variable to spice things up"
   ]
  },
  {
   "cell_type": "code",
   "execution_count": 4,
   "metadata": {},
   "outputs": [
    {
     "name": "stdout",
     "output_type": "stream",
     "text": [
      "[[ 19.85029602  23.33823586]\n",
      " [ 40.75460815  78.15203094]]\n"
     ]
    }
   ],
   "source": [
    "d = tf.placeholder(tf.float32, name='d')\n",
    "e = tf.Variable(tf.random_uniform([2, 2], -10.0, 10.0), name='e')\n",
    "\n",
    "# Add an op to initialize the variables.\n",
    "init_op = tf.global_variables_initializer()\n",
    "# AND INITIALIZE THEM\n",
    "sess.run(init_op)\n",
    "# more fun \n",
    "f = tf.add(c, tf.multiply(d, e), name='f')\n",
    "import numpy as np\n",
    "# A little assignment to the value of d to compute f\n",
    "print(sess.run(f, {d: np.ones((2,2))}))\n"
   ]
  },
  {
   "cell_type": "markdown",
   "metadata": {
    "collapsed": true
   },
   "source": [
    "# TensorBoard visualization\n",
    "Let's take a look at what we've got so far"
   ]
  },
  {
   "cell_type": "code",
   "execution_count": 5,
   "metadata": {
    "collapsed": true
   },
   "outputs": [],
   "source": [
    "file_writer = tf.summary.FileWriter('./the_graph', sess.graph)\n"
   ]
  },
  {
   "cell_type": "markdown",
   "metadata": {},
   "source": [
    "run in a terminal:\n",
    "```bash\n",
    "python -m tensorflow.tensorboard --logdir=./the_graph/\n",
    "```\n",
    "to start the tensorboard and open http://0.0.0.0:6006/ on a browser to display it"
   ]
  },
  {
   "cell_type": "code",
   "execution_count": 6,
   "metadata": {},
   "outputs": [
    {
     "name": "stdout",
     "output_type": "stream",
     "text": [
      "[[ 19.85029602  23.33823586]\n",
      " [ 40.75460815  78.15203094]]\n"
     ]
    }
   ],
   "source": [
    "g = tf.add(c, e, name='g')\n",
    "file_writer.flush()\n",
    "print(sess.run(g))"
   ]
  },
  {
   "cell_type": "markdown",
   "metadata": {},
   "source": [
    "That's all folks!"
   ]
  }
 ],
 "metadata": {
  "kernelspec": {
   "display_name": "Python 2",
   "language": "python",
   "name": "python2"
  },
  "language_info": {
   "codemirror_mode": {
    "name": "ipython",
    "version": 2
   },
   "file_extension": ".py",
   "mimetype": "text/x-python",
   "name": "python",
   "nbconvert_exporter": "python",
   "pygments_lexer": "ipython2",
   "version": "2.7.12"
  }
 },
 "nbformat": 4,
 "nbformat_minor": 1
}
